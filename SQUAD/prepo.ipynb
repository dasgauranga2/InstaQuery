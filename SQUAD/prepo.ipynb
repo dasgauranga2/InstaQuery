{
 "cells": [
  {
   "cell_type": "code",
   "execution_count": 1,
   "metadata": {},
   "outputs": [],
   "source": [
    "import pandas as pd\n",
    "from transformers import T5Tokenizer\n",
    "import random\n",
    "import json"
   ]
  },
  {
   "cell_type": "code",
   "execution_count": 2,
   "metadata": {},
   "outputs": [],
   "source": [
    "tokenizer = T5Tokenizer.from_pretrained('t5-small')"
   ]
  },
  {
   "cell_type": "code",
   "execution_count": null,
   "metadata": {},
   "outputs": [],
   "source": []
  },
  {
   "cell_type": "code",
   "execution_count": null,
   "metadata": {},
   "outputs": [],
   "source": []
  },
  {
   "cell_type": "code",
   "execution_count": 3,
   "metadata": {},
   "outputs": [],
   "source": [
    "result = []"
   ]
  },
  {
   "cell_type": "code",
   "execution_count": 4,
   "metadata": {},
   "outputs": [],
   "source": [
    "with open('squad.json', \"r\") as fh:\n",
    "    source = json.load(fh)\n",
    "    for article in source['data']:\n",
    "        for para in article['paragraphs']:\n",
    "            context = para['context']\n",
    "            context_tokens = tokenizer.tokenize(context.lower())\n",
    "            \n",
    "            for qa in para['qas']:\n",
    "                question = qa['question']\n",
    "                for answer in qa['answers']:\n",
    "                    answer_text = answer['text']\n",
    "                    \n",
    "                    start = answer['answer_start']\n",
    "                    end = start+len(answer_text)\n",
    "\n",
    "                    if len(context_tokens) < 115:\n",
    "                        txt = \"context : \" + context.lower() + \" question : \" + question.lower()\n",
    "                        ans = answer_text.lower()\n",
    "                        result.append([txt,ans])\n",
    "                    else:\n",
    "                        i = end-1\n",
    "                        while i<len(context) and context[i] != '.':\n",
    "                            i = i+1\n",
    "                        s_context = context[:i+1]\n",
    "                        \n",
    "                        s_context_tokens = tokenizer.tokenize(s_context)\n",
    "                        if len(s_context_tokens) < 115:\n",
    "                            txt = \"context : \" + s_context.lower() + \" question : \" + question.lower()\n",
    "                            ans = answer_text.lower()\n",
    "                            result.append([txt,ans])"
   ]
  },
  {
   "cell_type": "code",
   "execution_count": 5,
   "metadata": {},
   "outputs": [
    {
     "data": {
      "text/plain": [
       "58394"
      ]
     },
     "execution_count": 5,
     "metadata": {},
     "output_type": "execute_result"
    }
   ],
   "source": [
    "len(result)"
   ]
  },
  {
   "cell_type": "code",
   "execution_count": null,
   "metadata": {},
   "outputs": [],
   "source": []
  },
  {
   "cell_type": "code",
   "execution_count": null,
   "metadata": {},
   "outputs": [],
   "source": []
  },
  {
   "cell_type": "code",
   "execution_count": 6,
   "metadata": {},
   "outputs": [],
   "source": [
    "random.shuffle(result)"
   ]
  },
  {
   "cell_type": "code",
   "execution_count": 7,
   "metadata": {},
   "outputs": [],
   "source": [
    "train_df = pd.DataFrame(result , columns = ['Text', 'Answer'])"
   ]
  },
  {
   "cell_type": "code",
   "execution_count": 8,
   "metadata": {},
   "outputs": [],
   "source": [
    "train_df.to_csv('squad.csv', index=False)"
   ]
  },
  {
   "cell_type": "code",
   "execution_count": null,
   "metadata": {},
   "outputs": [],
   "source": []
  },
  {
   "cell_type": "code",
   "execution_count": null,
   "metadata": {},
   "outputs": [],
   "source": []
  }
 ],
 "metadata": {
  "kernelspec": {
   "display_name": "Python 3",
   "language": "python",
   "name": "python3"
  },
  "language_info": {
   "codemirror_mode": {
    "name": "ipython",
    "version": 3
   },
   "file_extension": ".py",
   "mimetype": "text/x-python",
   "name": "python",
   "nbconvert_exporter": "python",
   "pygments_lexer": "ipython3",
   "version": "3.8.5"
  }
 },
 "nbformat": 4,
 "nbformat_minor": 4
}
